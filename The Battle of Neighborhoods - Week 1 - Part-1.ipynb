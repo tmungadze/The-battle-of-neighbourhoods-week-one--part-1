{
 "cells": [
  {
   "cell_type": "markdown",
   "metadata": {
    "collapsed": true
   },
   "source": [
    "## The Battle of the Neighborhoods - Week 1"
   ]
  },
  {
   "cell_type": "markdown",
   "metadata": {},
   "source": [
    "### Introduction & Business Problem :"
   ]
  },
  {
   "cell_type": "markdown",
   "metadata": {},
   "source": [
    "###  Problem Background:"
   ]
  },
  {
   "cell_type": "markdown",
   "metadata": {},
   "source": [
    "The City of New York, is the highly populous city in the USA. It has business oppourtunities and offer friendly environment. \n",
    "As it is highly developed city, it is subjected to high business costs. There is need to conduct a proper analysis inorder to understand Business Viability for anyone who needs to open a restaurant. this project will explore locational factors, recommend a proper location and provide the benefits of such a location\n"
   ]
  },
  {
   "cell_type": "markdown",
   "metadata": {},
   "source": [
    "###  Problem Description:"
   ]
  },
  {
   "cell_type": "markdown",
   "metadata": {},
   "source": [
    " While contempleting on oppening food business in NYC, the prohect will explore various groupings  of immigrants and look at their routine dishes taking for instance the groupings below.<Br> \n",
    "1. European immigrants cheesecake, hot dogs, knishes,<Br> \n",
    "2. Italian  -  pizza and Italian cuisine<Br>\n",
    "3. Jewish and Irish immigrants - pastrami and corned beef<Br>\n",
    "4. Chinese and other Asian restaurants, sandwich joints, trattorias, diners, and coffeehouses are ubiquitous throughout the city<Br>\n",
    "5. mobile food vendors - Some 4,000 licensed by the city<Br>\n",
    "6. Middle Eastern foods such as falafel and kebabs examples of modern New York street food<Br>\n",
    "7. It is famous for Pizzerias, Cafe'and for fine dining Michelin starred restaurants.<Br>\n",
    "  \n"
   ]
  },
  {
   "cell_type": "markdown",
   "metadata": {},
   "source": [
    "## Factors to be considered on the Location : "
   ]
  },
  {
   "cell_type": "markdown",
   "metadata": {},
   "source": [
    "\n",
    "1.Population,<Br>\n",
    "2.Demographics,<Br> \n",
    "3.Wholesale markets,<Br> \n",
    "4.Entertainmnet zones and<Br> \n",
    "5.Menu \n",
    " "
   ]
  },
  {
   "cell_type": "markdown",
   "metadata": {},
   "source": [
    "### Target:"
   ]
  },
  {
   "cell_type": "markdown",
   "metadata": {},
   "source": [
    "To recommend the correct location of establishing a restaurant, an analysis company has appointed me, a data scientist to conduct a proper analysis which will inform on the proper location which is effective and economic. the analysis will provide the rationale behind chosing a business location for a restaurant in the New York City.\n",
    "\n",
    "This would  be of Economic interest to anyone who wants to start a new restaurant in Newyork city."
   ]
  },
  {
   "cell_type": "markdown",
   "metadata": {},
   "source": [
    "###  Recommendation:"
   ]
  },
  {
   "cell_type": "markdown",
   "metadata": {},
   "source": [
    "The success criteria of the project will be a good recommendation of location creiteria which will minimise cost, maximise business volumes and at the same time encourages accecibility and visibility"
   ]
  },
  {
   "cell_type": "markdown",
   "metadata": {},
   "source": [
    "## Foursquare Data"
   ]
  },
  {
   "cell_type": "markdown",
   "metadata": {},
   "source": [
    "Newyork city geographical coordinates data will be utilized as input for the Foursquare API, that will be leveraged to provision venues information for each neighborhood.We will use the Foursquare API to explore neighborhoods in New York City. "
   ]
  },
  {
   "cell_type": "markdown",
   "metadata": {},
   "source": [
    "One city will be analysed in this project : Newyork City.\n",
    "\n",
    "Neighborhood has  5 boroughs and 306 neighborhoods. For segementation of neighborhoods and explore I will use 5 boroughs, the neighborhoods that exist in each borough and latitude and logitude coordinates of each neighborhood.\n",
    "\n",
    "The data set is available on\n",
    "\n",
    "https://geo.nyu.edu/catalog/nyu_2451_34572"
   ]
  },
  {
   "cell_type": "markdown",
   "metadata": {},
   "source": [
    "Wecan acess data of the the following:\n",
    "\n",
    "- New York Population\n",
    "- New York City Demographics\n",
    "- Cuisine of New York city\n",
    "\n",
    "https://en.wikipedia.org/wiki/New_York_City \n",
    "\n",
    "https://en.wikipedia.org/wiki/Economy_of_New_York_City\n",
    "\n",
    "https://en.wikipedia.org/wiki/Portal:New_York_City\n",
    "\n",
    "https://en.wikipedia.org/wiki/Cuisine_of_New_York_City\n",
    "\n",
    "https://en.wikipedia.org/wiki/List_of_Michelin_starred_restaurants_in_New_York_City"
   ]
  },
  {
   "cell_type": "code",
   "execution_count": null,
   "metadata": {},
   "outputs": [],
   "source": []
  }
 ],
 "metadata": {
  "kernelspec": {
   "display_name": "Python 3",
   "language": "python",
   "name": "python3"
  },
  "language_info": {
   "codemirror_mode": {
    "name": "ipython",
    "version": 3
   },
   "file_extension": ".py",
   "mimetype": "text/x-python",
   "name": "python",
   "nbconvert_exporter": "python",
   "pygments_lexer": "ipython3",
   "version": "3.7.6"
  }
 },
 "nbformat": 4,
 "nbformat_minor": 1
}
